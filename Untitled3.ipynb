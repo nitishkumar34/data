{
  "nbformat": 4,
  "nbformat_minor": 0,
  "metadata": {
    "colab": {
      "name": "Untitled3.ipynb",
      "provenance": [],
      "authorship_tag": "ABX9TyPro7AHIYzy5TqJbPa2Jsze",
      "include_colab_link": true
    },
    "kernelspec": {
      "name": "python3",
      "display_name": "Python 3"
    },
    "language_info": {
      "name": "python"
    }
  },
  "cells": [
    {
      "cell_type": "markdown",
      "metadata": {
        "id": "view-in-github",
        "colab_type": "text"
      },
      "source": [
        "<a href=\"https://colab.research.google.com/github/nitishkumar34/data/blob/main/Untitled3.ipynb\" target=\"_parent\"><img src=\"https://colab.research.google.com/assets/colab-badge.svg\" alt=\"Open In Colab\"/></a>"
      ]
    },
    {
      "cell_type": "code",
      "source": [
        ""
      ],
      "metadata": {
        "id": "3_NyWLDNqGfZ"
      },
      "execution_count": null,
      "outputs": []
    },
    {
      "cell_type": "markdown",
      "source": [
        "The competition dataset is based on the 2016 NYC Yellow Cab trip record data made available in Big Query on Google Cloud Platform. The data was originally published by the NYC Taxi and Limousine Commission (TLC). The data was sampled and cleaned for the purposes of this playground competition. Based on individual trip attributes, participants should predict the duration of each trip in the test set."
      ],
      "metadata": {
        "id": "twelgAhrTAeh"
      }
    },
    {
      "cell_type": "markdown",
      "source": [
        "# loading libraries\n",
        "Let us begin our analysis by loading the Python Modules/Packages/Libraries."
      ],
      "metadata": {
        "id": "bm45nq8ZSTmd"
      }
    },
    {
      "cell_type": "code",
      "execution_count": null,
      "metadata": {
        "id": "doQbMZsWFskt"
      },
      "outputs": [],
      "source": [
        "import pandas as pd\n",
        "import datetime as dt\n",
        "import numpy as np\n",
        "import seaborn as sns\n",
        "import matplotlib.pyplot as plt\n",
        "import matplotlib.pyplot as plt\n",
        "\n",
        "import  seaborn as sns"
      ]
    },
    {
      "cell_type": "code",
      "source": [
        "#Reading input dataset\n",
        "\n",
        "df=pd.read_csv(\"nyc.csv\")"
      ],
      "metadata": {
        "id": "zrP4kGtbW42D"
      },
      "execution_count": null,
      "outputs": []
    },
    {
      "cell_type": "code",
      "source": [
        "df['pickup_datetime']=df['pickup_datetime'].astype('datetime64[ns]')"
      ],
      "metadata": {
        "id": "IWzl7bE1W5Ai"
      },
      "execution_count": null,
      "outputs": []
    },
    {
      "cell_type": "code",
      "source": [
        "df['store_and_fwd_flag'].value_counts()"
      ],
      "metadata": {
        "id": "n6OpBhfjW6BQ",
        "colab": {
          "base_uri": "https://localhost:8080/"
        },
        "outputId": "c38d4855-9141-47cb-da73-482d4c2dec04"
      },
      "execution_count": null,
      "outputs": [
        {
          "output_type": "execute_result",
          "data": {
            "text/plain": [
              "N    2982\n",
              "Y      18\n",
              "Name: store_and_fwd_flag, dtype: int64"
            ]
          },
          "metadata": {},
          "execution_count": 4
        }
      ]
    },
    {
      "cell_type": "code",
      "source": [
        "df.dtypes\n"
      ],
      "metadata": {
        "id": "NjxkrXARPGtu",
        "colab": {
          "base_uri": "https://localhost:8080/"
        },
        "outputId": "1f3dc901-a605-413a-e2d7-fd9746764d1d"
      },
      "execution_count": null,
      "outputs": [
        {
          "output_type": "execute_result",
          "data": {
            "text/plain": [
              "Unnamed: 0                     int64\n",
              "id                            object\n",
              "vendor_id                      int64\n",
              "pickup_datetime       datetime64[ns]\n",
              "dropoff_datetime              object\n",
              "passenger_count                int64\n",
              "pickup_longitude             float64\n",
              "pickup_latitude              float64\n",
              "dropoff_longitude            float64\n",
              "dropoff_latitude             float64\n",
              "store_and_fwd_flag            object\n",
              "trip_duration                  int64\n",
              "dtype: object"
            ]
          },
          "metadata": {},
          "execution_count": 6
        }
      ]
    },
    {
      "cell_type": "code",
      "source": [
        "from geopy.distance import great_circle"
      ],
      "metadata": {
        "id": "FWxrEKpnW7YJ"
      },
      "execution_count": null,
      "outputs": []
    },
    {
      "cell_type": "code",
      "source": [
        "#Calculte distance betwee pickup and dropoff points\n",
        "def cal_distance(pickup_lat,pickup_long,dropoff_lat,dropoff_long):\n",
        " \n",
        " start_coordinates=(pickup_lat,pickup_long)\n",
        " stop_coordinates=(dropoff_lat,dropoff_long)\n",
        " \n",
        " return great_circle(start_coordinates,stop_coordinates).km"
      ],
      "metadata": {
        "id": "pSxkoYIXXA3o"
      },
      "execution_count": null,
      "outputs": []
    },
    {
      "cell_type": "code",
      "source": [
        "# Calculating distance for each trip\n",
        "df['distance'] = df.apply(lambda df: cal_distance(df['pickup_latitude'],df['pickup_longitude'],df['dropoff_latitude'],df['dropoff_longitude'] ), axis=1)"
      ],
      "metadata": {
        "id": "05w67cvcXGU8"
      },
      "execution_count": null,
      "outputs": []
    },
    {
      "cell_type": "code",
      "source": [
        "df['distance']"
      ],
      "metadata": {
        "colab": {
          "base_uri": "https://localhost:8080/"
        },
        "id": "F6osRStJl2tE",
        "outputId": "be4e126d-2c52-4656-8904-c37940c78208"
      },
      "execution_count": null,
      "outputs": [
        {
          "output_type": "execute_result",
          "data": {
            "text/plain": [
              "0       1.498523\n",
              "1       1.805510\n",
              "2       6.385108\n",
              "3       1.485501\n",
              "4       1.188590\n",
              "          ...   \n",
              "2995    3.201289\n",
              "2996    1.719588\n",
              "2997    4.616190\n",
              "2998    3.366172\n",
              "2999    0.874404\n",
              "Name: distance, Length: 3000, dtype: float64"
            ]
          },
          "metadata": {},
          "execution_count": 8
        }
      ]
    },
    {
      "cell_type": "code",
      "source": [
        ""
      ],
      "metadata": {
        "id": "QWSBQaie_odH"
      },
      "execution_count": null,
      "outputs": []
    },
    {
      "cell_type": "code",
      "source": [
        ""
      ],
      "metadata": {
        "id": "Fvy3ZrjmmHQs"
      },
      "execution_count": null,
      "outputs": []
    },
    {
      "cell_type": "code",
      "source": [
        ""
      ],
      "metadata": {
        "id": "ixbjXxs_sykC"
      },
      "execution_count": null,
      "outputs": []
    },
    {
      "cell_type": "code",
      "source": [
        "#convert it to datetime\n",
        "df['pickup_datetime']=pd.to_datetime(df['pickup_datetime'])\n",
        "df['dropoff_datetime']=pd.to_datetime(df['dropoff_datetime'])\n"
      ],
      "metadata": {
        "id": "lyCk1FEMqBvZ"
      },
      "execution_count": null,
      "outputs": []
    },
    {
      "cell_type": "code",
      "source": [
        "\n",
        "df['pickup_day']=df['pickup_datetime'].dt.day\n",
        "df['dropoff_day']=df['dropoff_datetime'].dt.day\n",
        "df['pickup_day_no']=df['pickup_datetime'].dt.weekday\n",
        "df['dropoff_day_no']=df['dropoff_datetime'].dt.weekday\n",
        "df['pickup_hour']=df['pickup_datetime'].dt.hour\n",
        "df['dropoff_hour']=df['dropoff_datetime'].dt.hour\n",
        "df['pickup_month']=df['pickup_datetime'].dt.month\n",
        "df['dropoff_month']=df['dropoff_datetime'].dt.month\n",
        "df['pickup_year']=df['pickup_datetime'].dt.year \n",
        "df['dropoff_year']=df['dropoff_datetime'].dt.year"
      ],
      "metadata": {
        "id": "NugaTDB2sdPC"
      },
      "execution_count": null,
      "outputs": []
    },
    {
      "cell_type": "code",
      "source": [
        "sns.countplot(df['dropoff_day'])"
      ],
      "metadata": {
        "colab": {
          "base_uri": "https://localhost:8080/",
          "height": 352
        },
        "id": "ona5l_TnU-gX",
        "outputId": "bd514baa-a7a7-479b-9e17-9d9f87176bb0"
      },
      "execution_count": null,
      "outputs": [
        {
          "output_type": "stream",
          "name": "stderr",
          "text": [
            "/usr/local/lib/python3.7/dist-packages/seaborn/_decorators.py:43: FutureWarning: Pass the following variable as a keyword arg: x. From version 0.12, the only valid positional argument will be `data`, and passing other arguments without an explicit keyword will result in an error or misinterpretation.\n",
            "  FutureWarning\n"
          ]
        },
        {
          "output_type": "execute_result",
          "data": {
            "text/plain": [
              "<matplotlib.axes._subplots.AxesSubplot at 0x7f5890c0bcd0>"
            ]
          },
          "metadata": {},
          "execution_count": 11
        },
        {
          "output_type": "display_data",
          "data": {
            "text/plain": [
              "<Figure size 432x288 with 1 Axes>"
            ],
            "image/png": "[encoded data removed]"
          },
          "metadata": {
            "needs_background": "light"
          }
        }
      ]
    },
    {
      "cell_type": "code",
      "source": [
        "# Plotting count of  pickups and dropoffs for  each day\n",
        "fig, axs = plt.subplots(1,2, figsize=(18, 8))\n",
        "axs[0].set_title('Pickup Days')\n",
        "\n",
        "\n",
        "sns.countplot(x=df['pickup_day'],ax=axs[0])\n",
        "\n",
        "axs[1].set_title('Dropoff Days')\n",
        "sns.countplot(x=df['dropoff_day'],ax=axs[1])"
      ],
      "metadata": {
        "colab": {
          "base_uri": "https://localhost:8080/",
          "height": 531
        },
        "id": "Wjwx-y5S-Qk4",
        "outputId": "bfff1eda-10b6-4ba3-e6a0-9d5cf86e5adb"
      },
      "execution_count": null,
      "outputs": [
        {
          "output_type": "execute_result",
          "data": {
            "text/plain": [
              "<matplotlib.axes._subplots.AxesSubplot at 0x7f58904f7890>"
            ]
          },
          "metadata": {},
          "execution_count": 12
        },
        {
          "output_type": "display_data",
          "data": {
            "text/plain": [
              "<Figure size 1296x576 with 2 Axes>"
            ],
            "image/png": "[encoded data removed]"
          },
          "metadata": {
            "needs_background": "light"
          }
        }
      ]
    },
    {
      "cell_type": "code",
      "source": [
        "# Plotting total count of  pickups oand dropoffs for each hour \n",
        "fig, axs = plt.subplots(1,2, figsize=(18, 8))\n",
        "axs[0].set_title('Pickup Days')\n",
        "\n",
        "\n",
        "sns.countplot(x=df['pickup_hour'],ax=axs[0])\n",
        "\n",
        "axs[1].set_title('Dropoff Days')\n",
        "sns.countplot(x=df['dropoff_hour'],ax=axs[1])"
      ],
      "metadata": {
        "colab": {
          "base_uri": "https://localhost:8080/",
          "height": 531
        },
        "id": "xLEu8ctzcMVY",
        "outputId": "f2531a95-b259-4796-d138-c78b0aca7730"
      },
      "execution_count": null,
      "outputs": [
        {
          "output_type": "execute_result",
          "data": {
            "text/plain": [
              "<matplotlib.axes._subplots.AxesSubplot at 0x7f589029ab90>"
            ]
          },
          "metadata": {},
          "execution_count": 13
        },
        {
          "output_type": "display_data",
          "data": {
            "text/plain": [
              "<Figure size 1296x576 with 2 Axes>"
            ],
            "image/png": "[encoded data removed]"
          },
          "metadata": {
            "needs_background": "light"
          }
        }
      ]
    },
    {
      "cell_type": "code",
      "source": [
        "fig, axs = plt.subplots(1,2, figsize=(18, 8))\n",
        "axs[0].set_title('Pickup Days')\n",
        "\n",
        "\n",
        "sns.countplot(x=df['pickup_month'],ax=axs[0])\n",
        "\n",
        "axs[1].set_title('Dropoff Days')\n",
        "sns.countplot(x=df['dropoff_month'],ax=axs[1])"
      ],
      "metadata": {
        "colab": {
          "base_uri": "https://localhost:8080/",
          "height": 531
        },
        "id": "dpNnLmgocoJI",
        "outputId": "d37d2b14-7b24-4e27-dab9-bae5ff0463ac"
      },
      "execution_count": null,
      "outputs": [
        {
          "output_type": "execute_result",
          "data": {
            "text/plain": [
              "<matplotlib.axes._subplots.AxesSubplot at 0x7f4b991a6a10>"
            ]
          },
          "metadata": {},
          "execution_count": 34
        },
        {
          "output_type": "display_data",
          "data": {
            "text/plain": [
              "<Figure size 1296x576 with 2 Axes>"
            ],
            "image/png": "[encoded data removed]"
          },
          "metadata": {
            "needs_background": "light"
          }
        }
      ]
    },
    {
      "cell_type": "code",
      "source": [
        "def day_time(x):\n",
        "    if x in range(6,12):\n",
        "        return 'Morning'\n",
        "    elif x in range(12,16):\n",
        "        return 'Afternoon'\n",
        "    elif x in range(16,22):\n",
        "        return 'Evening'\n",
        "    else:\n",
        "        return 'Late night'"
      ],
      "metadata": {
        "id": "Fva_2atpn3Gc"
      },
      "execution_count": null,
      "outputs": []
    },
    {
      "cell_type": "code",
      "source": [
        "df['picktime']=df['pickup_hour'].apply(day_time)\n",
        "df['droptime']=df['dropoff_hour'].apply(day_time)\n"
      ],
      "metadata": {
        "id": "FmTVJBu4okJw"
      },
      "execution_count": null,
      "outputs": []
    },
    {
      "cell_type": "code",
      "source": [
        "fig, axs = plt.subplots(1,2, figsize=(18, 8))\n",
        "axs[0].set_title('Pick Time')\n",
        "\n",
        "\n",
        "sns.countplot(x=df['picktime'],ax=axs[0])\n",
        "\n",
        "axs[1].set_title('Dropoff Days')\n",
        "sns.countplot(x=df['droptime'],ax=axs[1])"
      ],
      "metadata": {
        "colab": {
          "base_uri": "https://localhost:8080/",
          "height": 530
        },
        "id": "2VzwbaYOn8oO",
        "outputId": "cd74e1ba-b790-4552-aa45-1bea2ee0aed4"
      },
      "execution_count": null,
      "outputs": [
        {
          "output_type": "execute_result",
          "data": {
            "text/plain": [
              "<matplotlib.axes._subplots.AxesSubplot at 0x7f92eb5dd710>"
            ]
          },
          "metadata": {},
          "execution_count": 11
        },
        {
          "output_type": "display_data",
          "data": {
            "text/plain": [
              "<Figure size 1296x576 with 2 Axes>"
            ],
            "image/png": "[encoded data removed]"
          },
          "metadata": {
            "needs_background": "light"
          }
        }
      ]
    },
    {
      "cell_type": "markdown",
      "source": [
        "# Time Duration outliers"
      ],
      "metadata": {
        "id": "qG7c9lVa3BA8"
      }
    },
    {
      "cell_type": "code",
      "source": [
        "# the skewed box plot shows us the presence of outliers \n",
        "sns.boxplot(y=df['trip_duration'])\n",
        "plt.show()"
      ],
      "metadata": {
        "colab": {
          "base_uri": "https://localhost:8080/",
          "height": 252
        },
        "id": "1Urbw-hUs8kF",
        "outputId": "b43e7212-4622-4b63-ea2e-4f2913a8934d"
      },
      "execution_count": null,
      "outputs": [
        {
          "output_type": "display_data",
          "data": {
            "text/plain": [
              "<Figure size 432x288 with 1 Axes>"
            ],
            "image/png": "[encoded data removed]"
          },
          "metadata": {
            "needs_background": "light"
          }
        }
      ]
    },
    {
      "cell_type": "code",
      "source": [
        ""
      ],
      "metadata": {
        "id": "fLPpe9k0UHS_"
      },
      "execution_count": null,
      "outputs": []
    },
    {
      "cell_type": "code",
      "source": [
        "#calculating 0-100th percentile to find a the correct percentile value for removal of outliers\n",
        "for i in range(0,100,10):\n",
        "    var =df[\"trip_duration\"].values\n",
        "    var = np.sort(var,axis = None)\n",
        "    print(\"{} percentile value is {}\".format(i,var[int(len(var)*(float(i)/100))]))\n",
        "print (\"100 percentile value is \",var[-1])"
      ],
      "metadata": {
        "colab": {
          "base_uri": "https://localhost:8080/"
        },
        "id": "mJR5-k_ODZ4o",
        "outputId": "bb9cef4c-8ead-4683-a1a1-d112d8a85895"
      },
      "execution_count": null,
      "outputs": [
        {
          "output_type": "stream",
          "name": "stdout",
          "text": [
            "0 percentile value is 2\n",
            "10 percentile value is 248\n",
            "20 percentile value is 346\n",
            "30 percentile value is 441\n",
            "40 percentile value is 542\n",
            "50 percentile value is 657\n",
            "60 percentile value is 785\n",
            "70 percentile value is 956\n",
            "80 percentile value is 1194\n",
            "90 percentile value is 1618\n",
            "100 percentile value is  86352\n"
          ]
        }
      ]
    },
    {
      "cell_type": "code",
      "source": [
        ""
      ],
      "metadata": {
        "id": "duOfQNLPV2qj"
      },
      "execution_count": null,
      "outputs": []
    },
    {
      "cell_type": "code",
      "source": [
        ""
      ],
      "metadata": {
        "id": "WNeXrMQSC3MP"
      },
      "execution_count": null,
      "outputs": []
    },
    {
      "cell_type": "code",
      "source": [
        "#calculating 0-100th percentile to find a the correct percentile value for removal of outliers\n",
        "for i in range(90,100):\n",
        "    var =df[\"trip_duration\"].values\n",
        "    var = np.sort(var,axis = None)\n",
        "    print(\"{} percentile value is {}\".format(i,var[int(len(var)*(float(i)/100))]))\n",
        "print (\"100 percentile value is \",var[-1])"
      ],
      "metadata": {
        "colab": {
          "base_uri": "https://localhost:8080/"
        },
        "outputId": "c25f8723-fc05-4933-e546-659c4703eea1",
        "id": "rE0Tc_G8EDoL"
      },
      "execution_count": null,
      "outputs": [
        {
          "output_type": "stream",
          "name": "stdout",
          "text": [
            "90 percentile value is 1618\n",
            "91 percentile value is 1688\n",
            "92 percentile value is 1756\n",
            "93 percentile value is 1858\n",
            "94 percentile value is 1968\n",
            "95 percentile value is 2089\n",
            "96 percentile value is 2275\n",
            "97 percentile value is 2534\n",
            "98 percentile value is 2732\n",
            "99 percentile value is 3148\n",
            "100 percentile value is  86352\n"
          ]
        }
      ]
    },
    {
      "cell_type": "code",
      "source": [
        ""
      ],
      "metadata": {
        "id": "w_6YhSIKEPVC"
      },
      "execution_count": null,
      "outputs": []
    },
    {
      "cell_type": "code",
      "source": [
        ""
      ],
      "metadata": {
        "id": "FjFjt6NgPx9P"
      },
      "execution_count": null,
      "outputs": []
    },
    {
      "cell_type": "code",
      "source": [
        "#calculating 0-100th percentile to find a the correct percentile value for removal of outliers\n",
        "for i in np.linspace(99.0,100.0,10 ,endpoint=False):\n",
        "    var =df[\"trip_duration\"].values\n",
        "    var = np.sort(var,axis = None)\n",
        "    print(\"{} percentile value is {}\".format(i,var[int(len(var)*(float(i)/100))]))\n",
        "print (\"100 percentile value is \",var[-1])"
      ],
      "metadata": {
        "colab": {
          "base_uri": "https://localhost:8080/"
        },
        "outputId": "356db27a-2708-4e4b-a1ce-70e94aa61e1e",
        "id": "g5spZYwYEQKt"
      },
      "execution_count": null,
      "outputs": [
        {
          "output_type": "stream",
          "name": "stdout",
          "text": [
            "99.0 percentile value is 3148\n",
            "99.1 percentile value is 3291\n",
            "99.2 percentile value is 3345\n",
            "99.3 percentile value is 3468\n",
            "99.4 percentile value is 3670\n",
            "99.5 percentile value is 3826\n",
            "99.6 percentile value is 4107\n",
            "99.7 percentile value is 4322\n",
            "99.8 percentile value is 5719\n",
            "99.9 percentile value is 84594\n",
            "100 percentile value is  86352\n"
          ]
        }
      ]
    },
    {
      "cell_type": "code",
      "source": [
        ""
      ],
      "metadata": {
        "id": "FW8k2h51WMSf"
      },
      "execution_count": null,
      "outputs": []
    },
    {
      "cell_type": "code",
      "source": [
        "df=df[df['trip_duration']<6000]\n",
        "df"
      ],
      "metadata": {
        "colab": {
          "base_uri": "https://localhost:8080/",
          "height": 678
        },
        "id": "iqTUrW0FPyw3",
        "outputId": "39df1363-f506-49d6-b426-9aebbafe2b58"
      },
      "execution_count": null,
      "outputs": [
        {
          "output_type": "execute_result",
          "data": {
            "text/plain": [
              "      Unnamed: 0         id  vendor_id     pickup_datetime  \\\n",
              "0              0  id2875421          2 2016-03-14 17:24:55   \n",
              "1              1  id2377394          1 2016-06-12 00:43:35   \n",
              "2              2  id3858529          2 2016-01-19 11:35:24   \n",
              "3              3  id3504673          2 2016-04-06 19:32:31   \n",
              "4              4  id2181028          2 2016-03-26 13:30:55   \n",
              "...          ...        ...        ...                 ...   \n",
              "2995        2995  id2526826          1 2016-03-15 20:44:01   \n",
              "2996        2996  id3544860          1 2016-05-19 19:11:32   \n",
              "2997        2997  id3916251          2 2016-03-06 21:30:34   \n",
              "2998        2998  id3923289          2 2016-02-16 15:37:51   \n",
              "2999        2999  id1387399          2 2016-04-02 23:45:15   \n",
              "\n",
              "        dropoff_datetime  passenger_count  pickup_longitude  pickup_latitude  \\\n",
              "0    2016-03-14 17:32:30                1        -73.982155        40.767937   \n",
              "1    2016-06-12 00:54:38                1        -73.980415        40.738564   \n",
              "2    2016-01-19 12:10:48                1        -73.979027        40.763939   \n",
              "3    2016-04-06 19:39:40                1        -74.010040        40.719971   \n",
              "4    2016-03-26 13:38:10                1        -73.973053        40.793209   \n",
              "...                  ...              ...               ...              ...   \n",
              "2995 2016-03-15 20:57:47                1        -74.004517        40.733818   \n",
              "2996 2016-05-19 19:22:30                1        -73.990463        40.731522   \n",
              "2997 2016-03-06 21:44:46                3        -73.992714        40.748661   \n",
              "2998 2016-02-16 16:02:21                2        -73.943832        40.747540   \n",
              "2999 2016-04-02 23:48:01                1        -73.982819        40.738689   \n",
              "\n",
              "      dropoff_longitude  dropoff_latitude  ... pickup_day  dropoff_day  \\\n",
              "0            -73.964630         40.765602  ...         14           14   \n",
              "1            -73.999481         40.731152  ...         12           12   \n",
              "2            -74.005333         40.710087  ...         19           19   \n",
              "3            -74.012268         40.706718  ...          6            6   \n",
              "4            -73.972923         40.782520  ...         26           26   \n",
              "...                 ...               ...  ...        ...          ...   \n",
              "2995         -74.007286         40.705105  ...         15           15   \n",
              "2996         -74.009224         40.737610  ...         19           19   \n",
              "2997         -73.951874         40.776348  ...          6            6   \n",
              "2998         -73.958191         40.775791  ...         16           16   \n",
              "2999         -73.972771         40.736721  ...          2            2   \n",
              "\n",
              "      pickup_day_no  dropoff_day_no  pickup_hour  dropoff_hour  pickup_month  \\\n",
              "0                 0               0           17            17             3   \n",
              "1                 6               6            0             0             6   \n",
              "2                 1               1           11            12             1   \n",
              "3                 2               2           19            19             4   \n",
              "4                 5               5           13            13             3   \n",
              "...             ...             ...          ...           ...           ...   \n",
              "2995              1               1           20            20             3   \n",
              "2996              3               3           19            19             5   \n",
              "2997              6               6           21            21             3   \n",
              "2998              1               1           15            16             2   \n",
              "2999              5               5           23            23             4   \n",
              "\n",
              "      dropoff_month  pickup_year  dropoff_year  \n",
              "0                 3         2016          2016  \n",
              "1                 6         2016          2016  \n",
              "2                 1         2016          2016  \n",
              "3                 4         2016          2016  \n",
              "4                 3         2016          2016  \n",
              "...             ...          ...           ...  \n",
              "2995              3         2016          2016  \n",
              "2996              5         2016          2016  \n",
              "2997              3         2016          2016  \n",
              "2998              2         2016          2016  \n",
              "2999              4         2016          2016  \n",
              "\n",
              "[2996 rows x 23 columns]"
            ],
            "text/html": [
              "\n",
              "  <div id=\"df-fcf1e1a4-1e80-412d-a6bf-5f21510f59f7\">\n",
              "    <div class=\"colab-df-container\">\n",
              "      <div>\n",
              "<style scoped>\n",
              "    .dataframe tbody tr th:only-of-type {\n",
              "        vertical-align: middle;\n",
              "    }\n",
              "\n",
              "    .dataframe tbody tr th {\n",
              "        vertical-align: top;\n",
              "    }\n",
              "\n",
              "    .dataframe thead th {\n",
              "        text-align: right;\n",
              "    }\n",
              "</style>\n",
              "<table border=\"1\" class=\"dataframe\">\n",
              "  <thead>\n",
              "    <tr style=\"text-align: right;\">\n",
              "      <th></th>\n",
              "      <th>Unnamed: 0</th>\n",
              "      <th>id</th>\n",
              "      <th>vendor_id</th>\n",
              "      <th>pickup_datetime</th>\n",
              "      <th>dropoff_datetime</th>\n",
              "      <th>passenger_count</th>\n",
              "      <th>pickup_longitude</th>\n",
              "      <th>pickup_latitude</th>\n",
              "      <th>dropoff_longitude</th>\n",
              "      <th>dropoff_latitude</th>\n",
              "      <th>...</th>\n",
              "      <th>pickup_day</th>\n",
              "      <th>dropoff_day</th>\n",
              "      <th>pickup_day_no</th>\n",
              "      <th>dropoff_day_no</th>\n",
              "      <th>pickup_hour</th>\n",
              "      <th>dropoff_hour</th>\n",
              "      <th>pickup_month</th>\n",
              "      <th>dropoff_month</th>\n",
              "      <th>pickup_year</th>\n",
              "      <th>dropoff_year</th>\n",
              "    </tr>\n",
              "  </thead>\n",
              "  <tbody>\n",
              "    <tr>\n",
              "      <th>0</th>\n",
              "      <td>0</td>\n",
              "      <td>id2875421</td>\n",
              "      <td>2</td>\n",
              "      <td>2016-03-14 17:24:55</td>\n",
              "      <td>2016-03-14 17:32:30</td>\n",
              "      <td>1</td>\n",
              "      <td>-73.982155</td>\n",
              "      <td>40.767937</td>\n",
              "      <td>-73.964630</td>\n",
              "      <td>40.765602</td>\n",
              "      <td>...</td>\n",
              "      <td>14</td>\n",
              "      <td>14</td>\n",
              "      <td>0</td>\n",
              "      <td>0</td>\n",
              "      <td>17</td>\n",
              "      <td>17</td>\n",
              "      <td>3</td>\n",
              "      <td>3</td>\n",
              "      <td>2016</td>\n",
              "      <td>2016</td>\n",
              "    </tr>\n",
              "    <tr>\n",
              "      <th>1</th>\n",
              "      <td>1</td>\n",
              "      <td>id2377394</td>\n",
              "      <td>1</td>\n",
              "      <td>2016-06-12 00:43:35</td>\n",
              "      <td>2016-06-12 00:54:38</td>\n",
              "      <td>1</td>\n",
              "      <td>-73.980415</td>\n",
              "      <td>40.738564</td>\n",
              "      <td>-73.999481</td>\n",
              "      <td>40.731152</td>\n",
              "      <td>...</td>\n",
              "      <td>12</td>\n",
              "      <td>12</td>\n",
              "      <td>6</td>\n",
              "      <td>6</td>\n",
              "      <td>0</td>\n",
              "      <td>0</td>\n",
              "      <td>6</td>\n",
              "      <td>6</td>\n",
              "      <td>2016</td>\n",
              "      <td>2016</td>\n",
              "    </tr>\n",
              "    <tr>\n",
              "      <th>2</th>\n",
              "      <td>2</td>\n",
              "      <td>id3858529</td>\n",
              "      <td>2</td>\n",
              "      <td>2016-01-19 11:35:24</td>\n",
              "      <td>2016-01-19 12:10:48</td>\n",
              "      <td>1</td>\n",
              "      <td>-73.979027</td>\n",
              "      <td>40.763939</td>\n",
              "      <td>-74.005333</td>\n",
              "      <td>40.710087</td>\n",
              "      <td>...</td>\n",
              "      <td>19</td>\n",
              "      <td>19</td>\n",
              "      <td>1</td>\n",
              "      <td>1</td>\n",
              "      <td>11</td>\n",
              "      <td>12</td>\n",
              "      <td>1</td>\n",
              "      <td>1</td>\n",
              "      <td>2016</td>\n",
              "      <td>2016</td>\n",
              "    </tr>\n",
              "    <tr>\n",
              "      <th>3</th>\n",
              "      <td>3</td>\n",
              "      <td>id3504673</td>\n",
              "      <td>2</td>\n",
              "      <td>2016-04-06 19:32:31</td>\n",
              "      <td>2016-04-06 19:39:40</td>\n",
              "      <td>1</td>\n",
              "      <td>-74.010040</td>\n",
              "      <td>40.719971</td>\n",
              "      <td>-74.012268</td>\n",
              "      <td>40.706718</td>\n",
              "      <td>...</td>\n",
              "      <td>6</td>\n",
              "      <td>6</td>\n",
              "      <td>2</td>\n",
              "      <td>2</td>\n",
              "      <td>19</td>\n",
              "      <td>19</td>\n",
              "      <td>4</td>\n",
              "      <td>4</td>\n",
              "      <td>2016</td>\n",
              "      <td>2016</td>\n",
              "    </tr>\n",
              "    <tr>\n",
              "      <th>4</th>\n",
              "      <td>4</td>\n",
              "      <td>id2181028</td>\n",
              "      <td>2</td>\n",
              "      <td>2016-03-26 13:30:55</td>\n",
              "      <td>2016-03-26 13:38:10</td>\n",
              "      <td>1</td>\n",
              "      <td>-73.973053</td>\n",
              "      <td>40.793209</td>\n",
              "      <td>-73.972923</td>\n",
              "      <td>40.782520</td>\n",
              "      <td>...</td>\n",
              "      <td>26</td>\n",
              "      <td>26</td>\n",
              "      <td>5</td>\n",
              "      <td>5</td>\n",
              "      <td>13</td>\n",
              "      <td>13</td>\n",
              "      <td>3</td>\n",
              "      <td>3</td>\n",
              "      <td>2016</td>\n",
              "      <td>2016</td>\n",
              "    </tr>\n",
              "    <tr>\n",
              "      <th>...</th>\n",
              "      <td>...</td>\n",
              "      <td>...</td>\n",
              "      <td>...</td>\n",
              "      <td>...</td>\n",
              "      <td>...</td>\n",
              "      <td>...</td>\n",
              "      <td>...</td>\n",
              "      <td>...</td>\n",
              "      <td>...</td>\n",
              "      <td>...</td>\n",
              "      <td>...</td>\n",
              "      <td>...</td>\n",
              "      <td>...</td>\n",
              "      <td>...</td>\n",
              "      <td>...</td>\n",
              "      <td>...</td>\n",
              "      <td>...</td>\n",
              "      <td>...</td>\n",
              "      <td>...</td>\n",
              "      <td>...</td>\n",
              "      <td>...</td>\n",
              "    </tr>\n",
              "    <tr>\n",
              "      <th>2995</th>\n",
              "      <td>2995</td>\n",
              "      <td>id2526826</td>\n",
              "      <td>1</td>\n",
              "      <td>2016-03-15 20:44:01</td>\n",
              "      <td>2016-03-15 20:57:47</td>\n",
              "      <td>1</td>\n",
              "      <td>-74.004517</td>\n",
              "      <td>40.733818</td>\n",
              "      <td>-74.007286</td>\n",
              "      <td>40.705105</td>\n",
              "      <td>...</td>\n",
              "      <td>15</td>\n",
              "      <td>15</td>\n",
              "      <td>1</td>\n",
              "      <td>1</td>\n",
              "      <td>20</td>\n",
              "      <td>20</td>\n",
              "      <td>3</td>\n",
              "      <td>3</td>\n",
              "      <td>2016</td>\n",
              "      <td>2016</td>\n",
              "    </tr>\n",
              "    <tr>\n",
              "      <th>2996</th>\n",
              "      <td>2996</td>\n",
              "      <td>id3544860</td>\n",
              "      <td>1</td>\n",
              "      <td>2016-05-19 19:11:32</td>\n",
              "      <td>2016-05-19 19:22:30</td>\n",
              "      <td>1</td>\n",
              "      <td>-73.990463</td>\n",
              "      <td>40.731522</td>\n",
              "      <td>-74.009224</td>\n",
              "      <td>40.737610</td>\n",
              "      <td>...</td>\n",
              "      <td>19</td>\n",
              "      <td>19</td>\n",
              "      <td>3</td>\n",
              "      <td>3</td>\n",
              "      <td>19</td>\n",
              "      <td>19</td>\n",
              "      <td>5</td>\n",
              "      <td>5</td>\n",
              "      <td>2016</td>\n",
              "      <td>2016</td>\n",
              "    </tr>\n",
              "    <tr>\n",
              "      <th>2997</th>\n",
              "      <td>2997</td>\n",
              "      <td>id3916251</td>\n",
              "      <td>2</td>\n",
              "      <td>2016-03-06 21:30:34</td>\n",
              "      <td>2016-03-06 21:44:46</td>\n",
              "      <td>3</td>\n",
              "      <td>-73.992714</td>\n",
              "      <td>40.748661</td>\n",
              "      <td>-73.951874</td>\n",
              "      <td>40.776348</td>\n",
              "      <td>...</td>\n",
              "      <td>6</td>\n",
              "      <td>6</td>\n",
              "      <td>6</td>\n",
              "      <td>6</td>\n",
              "      <td>21</td>\n",
              "      <td>21</td>\n",
              "      <td>3</td>\n",
              "      <td>3</td>\n",
              "      <td>2016</td>\n",
              "      <td>2016</td>\n",
              "    </tr>\n",
              "    <tr>\n",
              "      <th>2998</th>\n",
              "      <td>2998</td>\n",
              "      <td>id3923289</td>\n",
              "      <td>2</td>\n",
              "      <td>2016-02-16 15:37:51</td>\n",
              "      <td>2016-02-16 16:02:21</td>\n",
              "      <td>2</td>\n",
              "      <td>-73.943832</td>\n",
              "      <td>40.747540</td>\n",
              "      <td>-73.958191</td>\n",
              "      <td>40.775791</td>\n",
              "      <td>...</td>\n",
              "      <td>16</td>\n",
              "      <td>16</td>\n",
              "      <td>1</td>\n",
              "      <td>1</td>\n",
              "      <td>15</td>\n",
              "      <td>16</td>\n",
              "      <td>2</td>\n",
              "      <td>2</td>\n",
              "      <td>2016</td>\n",
              "      <td>2016</td>\n",
              "    </tr>\n",
              "    <tr>\n",
              "      <th>2999</th>\n",
              "      <td>2999</td>\n",
              "      <td>id1387399</td>\n",
              "      <td>2</td>\n",
              "      <td>2016-04-02 23:45:15</td>\n",
              "      <td>2016-04-02 23:48:01</td>\n",
              "      <td>1</td>\n",
              "      <td>-73.982819</td>\n",
              "      <td>40.738689</td>\n",
              "      <td>-73.972771</td>\n",
              "      <td>40.736721</td>\n",
              "      <td>...</td>\n",
              "      <td>2</td>\n",
              "      <td>2</td>\n",
              "      <td>5</td>\n",
              "      <td>5</td>\n",
              "      <td>23</td>\n",
              "      <td>23</td>\n",
              "      <td>4</td>\n",
              "      <td>4</td>\n",
              "      <td>2016</td>\n",
              "      <td>2016</td>\n",
              "    </tr>\n",
              "  </tbody>\n",
              "</table>\n",
              "<p>2996 rows × 23 columns</p>\n",
              "</div>\n",
              "      <button class=\"colab-df-convert\" onclick=\"convertToInteractive('df-fcf1e1a4-1e80-412d-a6bf-5f21510f59f7')\"\n",
              "              title=\"Convert this dataframe to an interactive table.\"\n",
              "              style=\"display:none;\">\n",
              "        \n",
              "  <svg xmlns=\"http://www.w3.org/2000/svg\" height=\"24px\"viewBox=\"0 0 24 24\"\n",
              "       width=\"24px\">\n",
              "    <path d=\"M0 0h24v24H0V0z\" fill=\"none\"/>\n",
              "    <path d=\"M18.56 5.44l.94 2.06.94-2.06 2.06-.94-2.06-.94-.94-2.06-.94 2.06-2.06.94zm-11 1L8.5 8.5l.94-2.06 2.06-.94-2.06-.94L8.5 2.5l-.94 2.06-2.06.94zm10 10l.94 2.06.94-2.06 2.06-.94-2.06-.94-.94-2.06-.94 2.06-2.06.94z\"/><path d=\"M17.41 7.96l-1.37-1.37c-.4-.4-.92-.59-1.43-.59-.52 0-1.04.2-1.43.59L10.3 9.45l-7.72 7.72c-.78.78-.78 2.05 0 2.83L4 21.41c.39.39.9.59 1.41.59.51 0 1.02-.2 1.41-.59l7.78-7.78 2.81-2.81c.8-.78.8-2.07 0-2.86zM5.41 20L4 18.59l7.72-7.72 1.47 1.35L5.41 20z\"/>\n",
              "  </svg>\n",
              "      </button>\n",
              "      \n",
              "  <style>\n",
              "    .colab-df-container {\n",
              "      display:flex;\n",
              "      flex-wrap:wrap;\n",
              "      gap: 12px;\n",
              "    }\n",
              "\n",
              "    .colab-df-convert {\n",
              "      background-color: #E8F0FE;\n",
              "      border: none;\n",
              "      border-radius: 50%;\n",
              "      cursor: pointer;\n",
              "      display: none;\n",
              "      fill: #1967D2;\n",
              "      height: 32px;\n",
              "      padding: 0 0 0 0;\n",
              "      width: 32px;\n",
              "    }\n",
              "\n",
              "    .colab-df-convert:hover {\n",
              "      background-color: #E2EBFA;\n",
              "      box-shadow: 0px 1px 2px rgba(60, 64, 67, 0.3), 0px 1px 3px 1px rgba(60, 64, 67, 0.15);\n",
              "      fill: #174EA6;\n",
              "    }\n",
              "\n",
              "    [theme=dark] .colab-df-convert {\n",
              "      background-color: #3B4455;\n",
              "      fill: #D2E3FC;\n",
              "    }\n",
              "\n",
              "    [theme=dark] .colab-df-convert:hover {\n",
              "      background-color: #434B5C;\n",
              "      box-shadow: 0px 1px 3px 1px rgba(0, 0, 0, 0.15);\n",
              "      filter: drop-shadow(0px 1px 2px rgba(0, 0, 0, 0.3));\n",
              "      fill: #FFFFFF;\n",
              "    }\n",
              "  </style>\n",
              "\n",
              "      <script>\n",
              "        const buttonEl =\n",
              "          document.querySelector('#df-fcf1e1a4-1e80-412d-a6bf-5f21510f59f7 button.colab-df-convert');\n",
              "        buttonEl.style.display =\n",
              "          google.colab.kernel.accessAllowed ? 'block' : 'none';\n",
              "\n",
              "        async function convertToInteractive(key) {\n",
              "          const element = document.querySelector('#df-fcf1e1a4-1e80-412d-a6bf-5f21510f59f7');\n",
              "          const dataTable =\n",
              "            await google.colab.kernel.invokeFunction('convertToInteractive',\n",
              "                                                     [key], {});\n",
              "          if (!dataTable) return;\n",
              "\n",
              "          const docLinkHtml = 'Like what you see? Visit the ' +\n",
              "            '<a target=\"_blank\" href=https://colab.research.google.com/notebooks/data_table.ipynb>data table notebook</a>'\n",
              "            + ' to learn more about interactive tables.';\n",
              "          element.innerHTML = '';\n",
              "          dataTable['output_type'] = 'display_data';\n",
              "          await google.colab.output.renderOutput(dataTable, element);\n",
              "          const docLink = document.createElement('div');\n",
              "          docLink.innerHTML = docLinkHtml;\n",
              "          element.appendChild(docLink);\n",
              "        }\n",
              "      </script>\n",
              "    </div>\n",
              "  </div>\n",
              "  "
            ]
          },
          "metadata": {},
          "execution_count": 18
        }
      ]
    },
    {
      "cell_type": "code",
      "source": [
        "sns.countplot(x='vendor_id',data=df)"
      ],
      "metadata": {
        "colab": {
          "base_uri": "https://localhost:8080/",
          "height": 297
        },
        "id": "4p82zFv5qqyz",
        "outputId": "29def066-5e27-4650-f3f7-2473d3ec78ea"
      },
      "execution_count": null,
      "outputs": [
        {
          "output_type": "execute_result",
          "data": {
            "text/plain": [
              "<matplotlib.axes._subplots.AxesSubplot at 0x7f58900a2a90>"
            ]
          },
          "metadata": {},
          "execution_count": 19
        },
        {
          "output_type": "display_data",
          "data": {
            "text/plain": [
              "<Figure size 432x288 with 1 Axes>"
            ],
            "image/png": "[encoded data removed]"
          },
          "metadata": {
            "needs_background": "light"
          }
        }
      ]
    },
    {
      "cell_type": "code",
      "source": [
        "# the skewed box plot shows us the presence of outliers \n",
        "sns.boxplot(y=df['distance'])\n",
        "plt.show()"
      ],
      "metadata": {
        "colab": {
          "base_uri": "https://localhost:8080/",
          "height": 252
        },
        "id": "u_dVJV_XUIzx",
        "outputId": "e459bc9b-88dc-473d-ea42-675dc52372fe"
      },
      "execution_count": null,
      "outputs": [
        {
          "output_type": "display_data",
          "data": {
            "text/plain": [
              "<Figure size 432x288 with 1 Axes>"
            ],
            "image/png": "[encoded data removed]"
          },
          "metadata": {
            "needs_background": "light"
          }
        }
      ]
    },
    {
      "cell_type": "code",
      "source": [
        "#calculating 0-100th percentile to find a the correct percentile value for removal of outliers\n",
        "for i in range(0,100,10):\n",
        "    var =df[\"distance\"].values\n",
        "    var = np.sort(var,axis = None)\n",
        "    print(\"{} percentile value is {}\".format(i,var[int(len(var)*(float(i)/100))]))\n",
        "print (\"100 percentile value is \",var[-1])"
      ],
      "metadata": {
        "colab": {
          "base_uri": "https://localhost:8080/"
        },
        "id": "udlMBGZtV38n",
        "outputId": "a3bfead8-8116-45cd-bc49-3a9860bc59e8"
      },
      "execution_count": null,
      "outputs": [
        {
          "output_type": "stream",
          "name": "stdout",
          "text": [
            "0 percentile value is 0.0\n",
            "10 percentile value is 0.7811369194461721\n",
            "20 percentile value is 1.0926987757555928\n",
            "30 percentile value is 1.3854123785652923\n",
            "40 percentile value is 1.6662343598601774\n",
            "50 percentile value is 2.020502800823756\n",
            "60 percentile value is 2.5552533718374346\n",
            "70 percentile value is 3.244176600607486\n",
            "80 percentile value is 4.5645996863296325\n",
            "90 percentile value is 7.368009324270167\n",
            "100 percentile value is  45.11633593495581\n"
          ]
        }
      ]
    },
    {
      "cell_type": "code",
      "source": [
        "#calculating 0-100th percentile to find a the correct percentile value for removal of outliers\n",
        "for i in range(90,100):\n",
        "    var =df[\"distance\"].values\n",
        "    var = np.sort(var,axis = None)\n",
        "    print(\"{} percentile value is {}\".format(i,var[int(len(var)*(float(i)/100))]))\n",
        "print (\"100 percentile value is \",var[-1])"
      ],
      "metadata": {
        "colab": {
          "base_uri": "https://localhost:8080/"
        },
        "id": "d5dDmOvXV53R",
        "outputId": "b1101032-7f2c-4ba8-989f-c8698f43dac6"
      },
      "execution_count": null,
      "outputs": [
        {
          "output_type": "stream",
          "name": "stdout",
          "text": [
            "90 percentile value is 7.368009324270167\n",
            "91 percentile value is 8.09085626515195\n",
            "92 percentile value is 8.598174100976761\n",
            "93 percentile value is 9.273508208242152\n",
            "94 percentile value is 9.864361362187003\n",
            "95 percentile value is 10.984223042986109\n",
            "96 percentile value is 12.384050691607502\n",
            "97 percentile value is 14.377846433427127\n",
            "98 percentile value is 18.773512809560277\n",
            "99 percentile value is 20.418339486553062\n",
            "100 percentile value is  45.11633593495581\n"
          ]
        }
      ]
    },
    {
      "cell_type": "code",
      "source": [
        "#calculating 0-100th percentile to find a the correct percentile value for removal of outliers\n",
        "for i in np.linspace(99.0,100.0,10 ,endpoint=False):\n",
        "    var =df[\"distance\"].values\n",
        "    var = np.sort(var,axis = None)\n",
        "    print(\"{} percentile value is {}\".format(i,var[int(len(var)*(float(i)/100))]))\n",
        "print (\"100 percentile value is \",var[-1])"
      ],
      "metadata": {
        "colab": {
          "base_uri": "https://localhost:8080/"
        },
        "id": "S0nZ9zeMWNaR",
        "outputId": "08e54e47-9c3b-4605-8f33-d9f43f1bf48e"
      },
      "execution_count": null,
      "outputs": [
        {
          "output_type": "stream",
          "name": "stdout",
          "text": [
            "99.0 percentile value is 20.418339486553062\n",
            "99.1 percentile value is 20.770775385457434\n",
            "99.2 percentile value is 20.89990876677522\n",
            "99.3 percentile value is 21.354286155425097\n",
            "99.4 percentile value is 21.603003172264952\n",
            "99.5 percentile value is 21.650717561080842\n",
            "99.6 percentile value is 22.045048862312992\n",
            "99.7 percentile value is 22.860920029064154\n",
            "99.8 percentile value is 25.578618475976864\n",
            "99.9 percentile value is 29.06725123003611\n",
            "100 percentile value is  45.11633593495581\n"
          ]
        }
      ]
    },
    {
      "cell_type": "code",
      "source": [
        "# Removing outliers for distance\n",
        "df=df[df['distance']<30]\n",
        "df"
      ],
      "metadata": {
        "colab": {
          "base_uri": "https://localhost:8080/",
          "height": 678
        },
        "id": "ulN5W041cuX0",
        "outputId": "880ec7bd-bc1f-4654-cc5d-cabe83e1ec48"
      },
      "execution_count": null,
      "outputs": [
        {
          "output_type": "execute_result",
          "data": {
            "text/plain": [
              "      Unnamed: 0         id  vendor_id     pickup_datetime  \\\n",
              "0              0  id2875421          2 2016-03-14 17:24:55   \n",
              "1              1  id2377394          1 2016-06-12 00:43:35   \n",
              "2              2  id3858529          2 2016-01-19 11:35:24   \n",
              "3              3  id3504673          2 2016-04-06 19:32:31   \n",
              "4              4  id2181028          2 2016-03-26 13:30:55   \n",
              "...          ...        ...        ...                 ...   \n",
              "2995        2995  id2526826          1 2016-03-15 20:44:01   \n",
              "2996        2996  id3544860          1 2016-05-19 19:11:32   \n",
              "2997        2997  id3916251          2 2016-03-06 21:30:34   \n",
              "2998        2998  id3923289          2 2016-02-16 15:37:51   \n",
              "2999        2999  id1387399          2 2016-04-02 23:45:15   \n",
              "\n",
              "        dropoff_datetime  passenger_count  pickup_longitude  pickup_latitude  \\\n",
              "0    2016-03-14 17:32:30                1        -73.982155        40.767937   \n",
              "1    2016-06-12 00:54:38                1        -73.980415        40.738564   \n",
              "2    2016-01-19 12:10:48                1        -73.979027        40.763939   \n",
              "3    2016-04-06 19:39:40                1        -74.010040        40.719971   \n",
              "4    2016-03-26 13:38:10                1        -73.973053        40.793209   \n",
              "...                  ...              ...               ...              ...   \n",
              "2995 2016-03-15 20:57:47                1        -74.004517        40.733818   \n",
              "2996 2016-05-19 19:22:30                1        -73.990463        40.731522   \n",
              "2997 2016-03-06 21:44:46                3        -73.992714        40.748661   \n",
              "2998 2016-02-16 16:02:21                2        -73.943832        40.747540   \n",
              "2999 2016-04-02 23:48:01                1        -73.982819        40.738689   \n",
              "\n",
              "      dropoff_longitude  dropoff_latitude  ... pickup_day  dropoff_day  \\\n",
              "0            -73.964630         40.765602  ...         14           14   \n",
              "1            -73.999481         40.731152  ...         12           12   \n",
              "2            -74.005333         40.710087  ...         19           19   \n",
              "3            -74.012268         40.706718  ...          6            6   \n",
              "4            -73.972923         40.782520  ...         26           26   \n",
              "...                 ...               ...  ...        ...          ...   \n",
              "2995         -74.007286         40.705105  ...         15           15   \n",
              "2996         -74.009224         40.737610  ...         19           19   \n",
              "2997         -73.951874         40.776348  ...          6            6   \n",
              "2998         -73.958191         40.775791  ...         16           16   \n",
              "2999         -73.972771         40.736721  ...          2            2   \n",
              "\n",
              "      pickup_day_no  dropoff_day_no  pickup_hour  dropoff_hour  pickup_month  \\\n",
              "0                 0               0           17            17             3   \n",
              "1                 6               6            0             0             6   \n",
              "2                 1               1           11            12             1   \n",
              "3                 2               2           19            19             4   \n",
              "4                 5               5           13            13             3   \n",
              "...             ...             ...          ...           ...           ...   \n",
              "2995              1               1           20            20             3   \n",
              "2996              3               3           19            19             5   \n",
              "2997              6               6           21            21             3   \n",
              "2998              1               1           15            16             2   \n",
              "2999              5               5           23            23             4   \n",
              "\n",
              "      dropoff_month  pickup_year  dropoff_year  \n",
              "0                 3         2016          2016  \n",
              "1                 6         2016          2016  \n",
              "2                 1         2016          2016  \n",
              "3                 4         2016          2016  \n",
              "4                 3         2016          2016  \n",
              "...             ...          ...           ...  \n",
              "2995              3         2016          2016  \n",
              "2996              5         2016          2016  \n",
              "2997              3         2016          2016  \n",
              "2998              2         2016          2016  \n",
              "2999              4         2016          2016  \n",
              "\n",
              "[2994 rows x 23 columns]"
            ],
            "text/html": [
              "\n",
              "  <div id=\"df-ceff69b3-4722-4212-b9ce-381e34924807\">\n",
              "    <div class=\"colab-df-container\">\n",
              "      <div>\n",
              "<style scoped>\n",
              "    .dataframe tbody tr th:only-of-type {\n",
              "        vertical-align: middle;\n",
              "    }\n",
              "\n",
              "    .dataframe tbody tr th {\n",
              "        vertical-align: top;\n",
              "    }\n",
              "\n",
              "    .dataframe thead th {\n",
              "        text-align: right;\n",
              "    }\n",
              "</style>\n",
              "<table border=\"1\" class=\"dataframe\">\n",
              "  <thead>\n",
              "    <tr style=\"text-align: right;\">\n",
              "      <th></th>\n",
              "      <th>Unnamed: 0</th>\n",
              "      <th>id</th>\n",
              "      <th>vendor_id</th>\n",
              "      <th>pickup_datetime</th>\n",
              "      <th>dropoff_datetime</th>\n",
              "      <th>passenger_count</th>\n",
              "      <th>pickup_longitude</th>\n",
              "      <th>pickup_latitude</th>\n",
              "      <th>dropoff_longitude</th>\n",
              "      <th>dropoff_latitude</th>\n",
              "      <th>...</th>\n",
              "      <th>pickup_day</th>\n",
              "      <th>dropoff_day</th>\n",
              "      <th>pickup_day_no</th>\n",
              "      <th>dropoff_day_no</th>\n",
              "      <th>pickup_hour</th>\n",
              "      <th>dropoff_hour</th>\n",
              "      <th>pickup_month</th>\n",
              "      <th>dropoff_month</th>\n",
              "      <th>pickup_year</th>\n",
              "      <th>dropoff_year</th>\n",
              "    </tr>\n",
              "  </thead>\n",
              "  <tbody>\n",
              "    <tr>\n",
              "      <th>0</th>\n",
              "      <td>0</td>\n",
              "      <td>id2875421</td>\n",
              "      <td>2</td>\n",
              "      <td>2016-03-14 17:24:55</td>\n",
              "      <td>2016-03-14 17:32:30</td>\n",
              "      <td>1</td>\n",
              "      <td>-73.982155</td>\n",
              "      <td>40.767937</td>\n",
              "      <td>-73.964630</td>\n",
              "      <td>40.765602</td>\n",
              "      <td>...</td>\n",
              "      <td>14</td>\n",
              "      <td>14</td>\n",
              "      <td>0</td>\n",
              "      <td>0</td>\n",
              "      <td>17</td>\n",
              "      <td>17</td>\n",
              "      <td>3</td>\n",
              "      <td>3</td>\n",
              "      <td>2016</td>\n",
              "      <td>2016</td>\n",
              "    </tr>\n",
              "    <tr>\n",
              "      <th>1</th>\n",
              "      <td>1</td>\n",
              "      <td>id2377394</td>\n",
              "      <td>1</td>\n",
              "      <td>2016-06-12 00:43:35</td>\n",
              "      <td>2016-06-12 00:54:38</td>\n",
              "      <td>1</td>\n",
              "      <td>-73.980415</td>\n",
              "      <td>40.738564</td>\n",
              "      <td>-73.999481</td>\n",
              "      <td>40.731152</td>\n",
              "      <td>...</td>\n",
              "      <td>12</td>\n",
              "      <td>12</td>\n",
              "      <td>6</td>\n",
              "      <td>6</td>\n",
              "      <td>0</td>\n",
              "      <td>0</td>\n",
              "      <td>6</td>\n",
              "      <td>6</td>\n",
              "      <td>2016</td>\n",
              "      <td>2016</td>\n",
              "    </tr>\n",
              "    <tr>\n",
              "      <th>2</th>\n",
              "      <td>2</td>\n",
              "      <td>id3858529</td>\n",
              "      <td>2</td>\n",
              "      <td>2016-01-19 11:35:24</td>\n",
              "      <td>2016-01-19 12:10:48</td>\n",
              "      <td>1</td>\n",
              "      <td>-73.979027</td>\n",
              "      <td>40.763939</td>\n",
              "      <td>-74.005333</td>\n",
              "      <td>40.710087</td>\n",
              "      <td>...</td>\n",
              "      <td>19</td>\n",
              "      <td>19</td>\n",
              "      <td>1</td>\n",
              "      <td>1</td>\n",
              "      <td>11</td>\n",
              "      <td>12</td>\n",
              "      <td>1</td>\n",
              "      <td>1</td>\n",
              "      <td>2016</td>\n",
              "      <td>2016</td>\n",
              "    </tr>\n",
              "    <tr>\n",
              "      <th>3</th>\n",
              "      <td>3</td>\n",
              "      <td>id3504673</td>\n",
              "      <td>2</td>\n",
              "      <td>2016-04-06 19:32:31</td>\n",
              "      <td>2016-04-06 19:39:40</td>\n",
              "      <td>1</td>\n",
              "      <td>-74.010040</td>\n",
              "      <td>40.719971</td>\n",
              "      <td>-74.012268</td>\n",
              "      <td>40.706718</td>\n",
              "      <td>...</td>\n",
              "      <td>6</td>\n",
              "      <td>6</td>\n",
              "      <td>2</td>\n",
              "      <td>2</td>\n",
              "      <td>19</td>\n",
              "      <td>19</td>\n",
              "      <td>4</td>\n",
              "      <td>4</td>\n",
              "      <td>2016</td>\n",
              "      <td>2016</td>\n",
              "    </tr>\n",
              "    <tr>\n",
              "      <th>4</th>\n",
              "      <td>4</td>\n",
              "      <td>id2181028</td>\n",
              "      <td>2</td>\n",
              "      <td>2016-03-26 13:30:55</td>\n",
              "      <td>2016-03-26 13:38:10</td>\n",
              "      <td>1</td>\n",
              "      <td>-73.973053</td>\n",
              "      <td>40.793209</td>\n",
              "      <td>-73.972923</td>\n",
              "      <td>40.782520</td>\n",
              "      <td>...</td>\n",
              "      <td>26</td>\n",
              "      <td>26</td>\n",
              "      <td>5</td>\n",
              "      <td>5</td>\n",
              "      <td>13</td>\n",
              "      <td>13</td>\n",
              "      <td>3</td>\n",
              "      <td>3</td>\n",
              "      <td>2016</td>\n",
              "      <td>2016</td>\n",
              "    </tr>\n",
              "    <tr>\n",
              "      <th>...</th>\n",
              "      <td>...</td>\n",
              "      <td>...</td>\n",
              "      <td>...</td>\n",
              "      <td>...</td>\n",
              "      <td>...</td>\n",
              "      <td>...</td>\n",
              "      <td>...</td>\n",
              "      <td>...</td>\n",
              "      <td>...</td>\n",
              "      <td>...</td>\n",
              "      <td>...</td>\n",
              "      <td>...</td>\n",
              "      <td>...</td>\n",
              "      <td>...</td>\n",
              "      <td>...</td>\n",
              "      <td>...</td>\n",
              "      <td>...</td>\n",
              "      <td>...</td>\n",
              "      <td>...</td>\n",
              "      <td>...</td>\n",
              "      <td>...</td>\n",
              "    </tr>\n",
              "    <tr>\n",
              "      <th>2995</th>\n",
              "      <td>2995</td>\n",
              "      <td>id2526826</td>\n",
              "      <td>1</td>\n",
              "      <td>2016-03-15 20:44:01</td>\n",
              "      <td>2016-03-15 20:57:47</td>\n",
              "      <td>1</td>\n",
              "      <td>-74.004517</td>\n",
              "      <td>40.733818</td>\n",
              "      <td>-74.007286</td>\n",
              "      <td>40.705105</td>\n",
              "      <td>...</td>\n",
              "      <td>15</td>\n",
              "      <td>15</td>\n",
              "      <td>1</td>\n",
              "      <td>1</td>\n",
              "      <td>20</td>\n",
              "      <td>20</td>\n",
              "      <td>3</td>\n",
              "      <td>3</td>\n",
              "      <td>2016</td>\n",
              "      <td>2016</td>\n",
              "    </tr>\n",
              "    <tr>\n",
              "      <th>2996</th>\n",
              "      <td>2996</td>\n",
              "      <td>id3544860</td>\n",
              "      <td>1</td>\n",
              "      <td>2016-05-19 19:11:32</td>\n",
              "      <td>2016-05-19 19:22:30</td>\n",
              "      <td>1</td>\n",
              "      <td>-73.990463</td>\n",
              "      <td>40.731522</td>\n",
              "      <td>-74.009224</td>\n",
              "      <td>40.737610</td>\n",
              "      <td>...</td>\n",
              "      <td>19</td>\n",
              "      <td>19</td>\n",
              "      <td>3</td>\n",
              "      <td>3</td>\n",
              "      <td>19</td>\n",
              "      <td>19</td>\n",
              "      <td>5</td>\n",
              "      <td>5</td>\n",
              "      <td>2016</td>\n",
              "      <td>2016</td>\n",
              "    </tr>\n",
              "    <tr>\n",
              "      <th>2997</th>\n",
              "      <td>2997</td>\n",
              "      <td>id3916251</td>\n",
              "      <td>2</td>\n",
              "      <td>2016-03-06 21:30:34</td>\n",
              "      <td>2016-03-06 21:44:46</td>\n",
              "      <td>3</td>\n",
              "      <td>-73.992714</td>\n",
              "      <td>40.748661</td>\n",
              "      <td>-73.951874</td>\n",
              "      <td>40.776348</td>\n",
              "      <td>...</td>\n",
              "      <td>6</td>\n",
              "      <td>6</td>\n",
              "      <td>6</td>\n",
              "      <td>6</td>\n",
              "      <td>21</td>\n",
              "      <td>21</td>\n",
              "      <td>3</td>\n",
              "      <td>3</td>\n",
              "      <td>2016</td>\n",
              "      <td>2016</td>\n",
              "    </tr>\n",
              "    <tr>\n",
              "      <th>2998</th>\n",
              "      <td>2998</td>\n",
              "      <td>id3923289</td>\n",
              "      <td>2</td>\n",
              "      <td>2016-02-16 15:37:51</td>\n",
              "      <td>2016-02-16 16:02:21</td>\n",
              "      <td>2</td>\n",
              "      <td>-73.943832</td>\n",
              "      <td>40.747540</td>\n",
              "      <td>-73.958191</td>\n",
              "      <td>40.775791</td>\n",
              "      <td>...</td>\n",
              "      <td>16</td>\n",
              "      <td>16</td>\n",
              "      <td>1</td>\n",
              "      <td>1</td>\n",
              "      <td>15</td>\n",
              "      <td>16</td>\n",
              "      <td>2</td>\n",
              "      <td>2</td>\n",
              "      <td>2016</td>\n",
              "      <td>2016</td>\n",
              "    </tr>\n",
              "    <tr>\n",
              "      <th>2999</th>\n",
              "      <td>2999</td>\n",
              "      <td>id1387399</td>\n",
              "      <td>2</td>\n",
              "      <td>2016-04-02 23:45:15</td>\n",
              "      <td>2016-04-02 23:48:01</td>\n",
              "      <td>1</td>\n",
              "      <td>-73.982819</td>\n",
              "      <td>40.738689</td>\n",
              "      <td>-73.972771</td>\n",
              "      <td>40.736721</td>\n",
              "      <td>...</td>\n",
              "      <td>2</td>\n",
              "      <td>2</td>\n",
              "      <td>5</td>\n",
              "      <td>5</td>\n",
              "      <td>23</td>\n",
              "      <td>23</td>\n",
              "      <td>4</td>\n",
              "      <td>4</td>\n",
              "      <td>2016</td>\n",
              "      <td>2016</td>\n",
              "    </tr>\n",
              "  </tbody>\n",
              "</table>\n",
              "<p>2994 rows × 23 columns</p>\n",
              "</div>\n",
              "      <button class=\"colab-df-convert\" onclick=\"convertToInteractive('df-ceff69b3-4722-4212-b9ce-381e34924807')\"\n",
              "              title=\"Convert this dataframe to an interactive table.\"\n",
              "              style=\"display:none;\">\n",
              "        \n",
              "  <svg xmlns=\"http://www.w3.org/2000/svg\" height=\"24px\"viewBox=\"0 0 24 24\"\n",
              "       width=\"24px\">\n",
              "    <path d=\"M0 0h24v24H0V0z\" fill=\"none\"/>\n",
              "    <path d=\"M18.56 5.44l.94 2.06.94-2.06 2.06-.94-2.06-.94-.94-2.06-.94 2.06-2.06.94zm-11 1L8.5 8.5l.94-2.06 2.06-.94-2.06-.94L8.5 2.5l-.94 2.06-2.06.94zm10 10l.94 2.06.94-2.06 2.06-.94-2.06-.94-.94-2.06-.94 2.06-2.06.94z\"/><path d=\"M17.41 7.96l-1.37-1.37c-.4-.4-.92-.59-1.43-.59-.52 0-1.04.2-1.43.59L10.3 9.45l-7.72 7.72c-.78.78-.78 2.05 0 2.83L4 21.41c.39.39.9.59 1.41.59.51 0 1.02-.2 1.41-.59l7.78-7.78 2.81-2.81c.8-.78.8-2.07 0-2.86zM5.41 20L4 18.59l7.72-7.72 1.47 1.35L5.41 20z\"/>\n",
              "  </svg>\n",
              "      </button>\n",
              "      \n",
              "  <style>\n",
              "    .colab-df-container {\n",
              "      display:flex;\n",
              "      flex-wrap:wrap;\n",
              "      gap: 12px;\n",
              "    }\n",
              "\n",
              "    .colab-df-convert {\n",
              "      background-color: #E8F0FE;\n",
              "      border: none;\n",
              "      border-radius: 50%;\n",
              "      cursor: pointer;\n",
              "      display: none;\n",
              "      fill: #1967D2;\n",
              "      height: 32px;\n",
              "      padding: 0 0 0 0;\n",
              "      width: 32px;\n",
              "    }\n",
              "\n",
              "    .colab-df-convert:hover {\n",
              "      background-color: #E2EBFA;\n",
              "      box-shadow: 0px 1px 2px rgba(60, 64, 67, 0.3), 0px 1px 3px 1px rgba(60, 64, 67, 0.15);\n",
              "      fill: #174EA6;\n",
              "    }\n",
              "\n",
              "    [theme=dark] .colab-df-convert {\n",
              "      background-color: #3B4455;\n",
              "      fill: #D2E3FC;\n",
              "    }\n",
              "\n",
              "    [theme=dark] .colab-df-convert:hover {\n",
              "      background-color: #434B5C;\n",
              "      box-shadow: 0px 1px 3px 1px rgba(0, 0, 0, 0.15);\n",
              "      filter: drop-shadow(0px 1px 2px rgba(0, 0, 0, 0.3));\n",
              "      fill: #FFFFFF;\n",
              "    }\n",
              "  </style>\n",
              "\n",
              "      <script>\n",
              "        const buttonEl =\n",
              "          document.querySelector('#df-ceff69b3-4722-4212-b9ce-381e34924807 button.colab-df-convert');\n",
              "        buttonEl.style.display =\n",
              "          google.colab.kernel.accessAllowed ? 'block' : 'none';\n",
              "\n",
              "        async function convertToInteractive(key) {\n",
              "          const element = document.querySelector('#df-ceff69b3-4722-4212-b9ce-381e34924807');\n",
              "          const dataTable =\n",
              "            await google.colab.kernel.invokeFunction('convertToInteractive',\n",
              "                                                     [key], {});\n",
              "          if (!dataTable) return;\n",
              "\n",
              "          const docLinkHtml = 'Like what you see? Visit the ' +\n",
              "            '<a target=\"_blank\" href=https://colab.research.google.com/notebooks/data_table.ipynb>data table notebook</a>'\n",
              "            + ' to learn more about interactive tables.';\n",
              "          element.innerHTML = '';\n",
              "          dataTable['output_type'] = 'display_data';\n",
              "          await google.colab.output.renderOutput(dataTable, element);\n",
              "          const docLink = document.createElement('div');\n",
              "          docLink.innerHTML = docLinkHtml;\n",
              "          element.appendChild(docLink);\n",
              "        }\n",
              "      </script>\n",
              "    </div>\n",
              "  </div>\n",
              "  "
            ]
          },
          "metadata": {},
          "execution_count": 24
        }
      ]
    },
    {
      "cell_type": "code",
      "source": [
        "df['distance'].value_counts()"
      ],
      "metadata": {
        "colab": {
          "base_uri": "https://localhost:8080/"
        },
        "id": "FD2_kPeseVxF",
        "outputId": "53a1e9a8-8b58-49e2-e7cf-2c285b6f3432"
      },
      "execution_count": null,
      "outputs": [
        {
          "output_type": "execute_result",
          "data": {
            "text/plain": [
              "0.000000     11\n",
              "1.498523      1\n",
              "16.249362     1\n",
              "1.799377      1\n",
              "5.544478      1\n",
              "             ..\n",
              "1.343161      1\n",
              "3.774872      1\n",
              "1.594225      1\n",
              "9.833904      1\n",
              "0.874404      1\n",
              "Name: distance, Length: 2984, dtype: int64"
            ]
          },
          "metadata": {},
          "execution_count": 48
        }
      ]
    },
    {
      "cell_type": "code",
      "source": [
        "# Removing rows where 0 distance is travelled\n",
        "df=df[df['distance']!=0]"
      ],
      "metadata": {
        "id": "BvqfCqz_eeu0"
      },
      "execution_count": null,
      "outputs": []
    },
    {
      "cell_type": "code",
      "source": [
        "# Number of ride of each passenger count\n",
        "df.passenger_count.value_counts()"
      ],
      "metadata": {
        "colab": {
          "base_uri": "https://localhost:8080/"
        },
        "id": "lp8LCzs6diWl",
        "outputId": "8a716629-8378-4dd1-d420-341f23dad025"
      },
      "execution_count": null,
      "outputs": [
        {
          "output_type": "execute_result",
          "data": {
            "text/plain": [
              "1    2080\n",
              "2     455\n",
              "5     153\n",
              "3     125\n",
              "6      98\n",
              "4      72\n",
              "Name: passenger_count, dtype: int64"
            ]
          },
          "metadata": {},
          "execution_count": 26
        }
      ]
    },
    {
      "cell_type": "code",
      "source": [
        "sns.countplot(x='passenger_count',data=df)"
      ],
      "metadata": {
        "colab": {
          "base_uri": "https://localhost:8080/",
          "height": 297
        },
        "id": "wWicTyIPd9Jg",
        "outputId": "5283259f-d3af-41c4-aef4-249212f7d35d"
      },
      "execution_count": null,
      "outputs": [
        {
          "output_type": "execute_result",
          "data": {
            "text/plain": [
              "<matplotlib.axes._subplots.AxesSubplot at 0x7f588ff99c50>"
            ]
          },
          "metadata": {},
          "execution_count": 27
        },
        {
          "output_type": "display_data",
          "data": {
            "text/plain": [
              "<Figure size 432x288 with 1 Axes>"
            ],
            "image/png": "[encoded data removed]"
          },
          "metadata": {
            "needs_background": "light"
          }
        }
      ]
    },
    {
      "cell_type": "code",
      "source": [
        "# Checking if any row has distance value 0\n",
        "df['distance'].value_counts()"
      ],
      "metadata": {
        "colab": {
          "base_uri": "https://localhost:8080/"
        },
        "id": "DLN3cAr6eMA4",
        "outputId": "c25e7174-6b0c-4101-f3db-0fcadb1984ea"
      },
      "execution_count": null,
      "outputs": [
        {
          "output_type": "execute_result",
          "data": {
            "text/plain": [
              "1.498523     1\n",
              "7.320214     1\n",
              "16.249362    1\n",
              "1.799377     1\n",
              "5.544478     1\n",
              "            ..\n",
              "1.343161     1\n",
              "3.774872     1\n",
              "1.594225     1\n",
              "9.833904     1\n",
              "0.874404     1\n",
              "Name: distance, Length: 2983, dtype: int64"
            ]
          },
          "metadata": {},
          "execution_count": 28
        }
      ]
    },
    {
      "cell_type": "code",
      "source": [
        "df.columns"
      ],
      "metadata": {
        "id": "eANmNCSCeTc7",
        "colab": {
          "base_uri": "https://localhost:8080/"
        },
        "outputId": "95c362a7-0c6d-4fff-e1e0-7570b63a46ef"
      },
      "execution_count": null,
      "outputs": [
        {
          "output_type": "execute_result",
          "data": {
            "text/plain": [
              "Index(['Unnamed: 0', 'id', 'vendor_id', 'pickup_datetime', 'dropoff_datetime',\n",
              "       'passenger_count', 'pickup_longitude', 'pickup_latitude',\n",
              "       'dropoff_longitude', 'dropoff_latitude', 'store_and_fwd_flag',\n",
              "       'trip_duration', 'distance', 'pickup_day', 'dropoff_day',\n",
              "       'pickup_day_no', 'dropoff_day_no', 'pickup_hour', 'dropoff_hour',\n",
              "       'pickup_month', 'dropoff_month', 'picktime', 'droptime'],\n",
              "      dtype='object')"
            ]
          },
          "metadata": {},
          "execution_count": 53
        }
      ]
    },
    {
      "cell_type": "code",
      "source": [
        "#\n",
        "x=df.drop(['trip_duration','id','pickup_datetime','dropoff_datetime'],axis=1)\n",
        "y=df['trip_duration']\n",
        "x=pd.get_dummies(x,'store_and_fwd_flag',drop_first=True)"
      ],
      "metadata": {
        "id": "fovaUqILRgZX"
      },
      "execution_count": null,
      "outputs": []
    },
    {
      "cell_type": "code",
      "source": [
        "# Normalising Predictors and creating new dataframe\n",
        "\n",
        "from sklearn.preprocessing import StandardScaler\n",
        "\n",
        "cols = x.columns\n",
        "\n",
        "ss = StandardScaler()\n",
        "\n",
        "x = ss.fit_transform(x)\n",
        "x = pd.DataFrame(x, columns=cols)\n",
        "x.head()\n",
        "y"
      ],
      "metadata": {
        "colab": {
          "base_uri": "https://localhost:8080/"
        },
        "id": "KJli3cCQQg0z",
        "outputId": "63f59a82-32aa-44bc-8396-3d7ce5dfbf2f"
      },
      "execution_count": null,
      "outputs": [
        {
          "output_type": "execute_result",
          "data": {
            "text/plain": [
              "0        455\n",
              "1        663\n",
              "2       2124\n",
              "3        429\n",
              "4        435\n",
              "        ... \n",
              "2995     826\n",
              "2996     658\n",
              "2997     852\n",
              "2998    1470\n",
              "2999     166\n",
              "Name: trip_duration, Length: 2983, dtype: int64"
            ]
          },
          "metadata": {},
          "execution_count": 30
        }
      ]
    },
    {
      "cell_type": "code",
      "source": [
        "x=pd.get_dummies(x,columns=['Unnamed: 0',  'vendor_id', \n",
        "       'passenger_count', 'pickup_longitude', 'pickup_latitude',\n",
        "       'dropoff_longitude', 'dropoff_latitude', \n",
        "       'pickup_day', 'dropoff_day','store_and_fwd_flag'\n",
        "       'pickup_day_no', 'dropoff_day_no', 'pickup_hour', 'dropoff_hour',\n",
        "       'pickup_month', 'dropoff_month', 'picktime', 'droptime'],drop_first=True)"
      ],
      "metadata": {
        "id": "wzIr5lyfJoqW"
      },
      "execution_count": null,
      "outputs": []
    },
    {
      "cell_type": "code",
      "source": [
        "from sklearn.model_selection import train_test_split\n",
        "x_train,x_test,y_train,y_test=train_test_split(x,y,test_size=.2)\n"
      ],
      "metadata": {
        "id": "x337Mw3jSxi1"
      },
      "execution_count": null,
      "outputs": []
    },
    {
      "cell_type": "code",
      "source": [
        "x_train.dtypes"
      ],
      "metadata": {
        "colab": {
          "base_uri": "https://localhost:8080/"
        },
        "id": "Reak7mqsf3xC",
        "outputId": "c070f589-41ba-4bde-a202-396fd28e0c4d"
      },
      "execution_count": null,
      "outputs": [
        {
          "output_type": "execute_result",
          "data": {
            "text/plain": [
              "Unnamed: 0                int64\n",
              "vendor_id                 int64\n",
              "passenger_count           int64\n",
              "pickup_longitude        float64\n",
              "pickup_latitude         float64\n",
              "dropoff_longitude       float64\n",
              "dropoff_latitude        float64\n",
              "distance                float64\n",
              "pickup_day                int64\n",
              "dropoff_day               int64\n",
              "pickup_day_no             int64\n",
              "dropoff_day_no            int64\n",
              "pickup_hour               int64\n",
              "dropoff_hour              int64\n",
              "pickup_month              int64\n",
              "dropoff_month             int64\n",
              "pickup_year               int64\n",
              "dropoff_year              int64\n",
              "store_and_fwd_flag_Y      uint8\n",
              "dtype: object"
            ]
          },
          "metadata": {},
          "execution_count": 21
        }
      ]
    },
    {
      "cell_type": "markdown",
      "source": [
        "# *Using Linear Regression*"
      ],
      "metadata": {
        "id": "GeE16ItWHKHM"
      }
    },
    {
      "cell_type": "code",
      "source": [
        "# import linear regression\n",
        "from sklearn.linear_model import LinearRegression\n",
        "reg = LinearRegression().fit(x_train, y_train)\n"
      ],
      "metadata": {
        "id": "KJ0eB_2STGmu"
      },
      "execution_count": null,
      "outputs": []
    },
    {
      "cell_type": "code",
      "source": [
        "pred=reg.predict(x_train)"
      ],
      "metadata": {
        "id": "EE6J5zxWf2oA"
      },
      "execution_count": null,
      "outputs": []
    },
    {
      "cell_type": "code",
      "source": [
        "from sklearn.metrics import mean_absolute_percentage_error\n",
        "mean_absolute_percentage_error(pred,y_train)\n"
      ],
      "metadata": {
        "id": "6g9FZ8DSL9_V",
        "colab": {
          "base_uri": "https://localhost:8080/"
        },
        "outputId": "0541561e-bbd6-4ab6-a3bb-d815747fee02"
      },
      "execution_count": null,
      "outputs": [
        {
          "output_type": "execute_result",
          "data": {
            "text/plain": [
              "0.3479449388490875"
            ]
          },
          "metadata": {},
          "execution_count": 36
        }
      ]
    },
    {
      "cell_type": "markdown",
      "source": [
        "# **Using Random Forest Regressor**"
      ],
      "metadata": {
        "id": "My6PhajDG7Dv"
      }
    },
    {
      "cell_type": "code",
      "source": [
        "# import random forest \n",
        "from sklearn.ensemble import RandomForestRegressor"
      ],
      "metadata": {
        "id": "l0d9UQ2EEJLa"
      },
      "execution_count": null,
      "outputs": []
    },
    {
      "cell_type": "markdown",
      "source": [
        ""
      ],
      "metadata": {
        "id": "I3vDQu_ZQOP6"
      }
    },
    {
      "cell_type": "code",
      "source": [
        "regr1 = RandomForestRegressor(max_features='sqrt',min_samples_leaf=4,min_samples_split=3,n_estimators=40, n_jobs=-1)\n",
        "regr1.fit(x_train, y_train)"
      ],
      "metadata": {
        "colab": {
          "base_uri": "https://localhost:8080/"
        },
        "id": "Zx4XMknkEGFM",
        "outputId": "90b2e22e-46bc-41c2-ec6d-77a70de3bc60"
      },
      "execution_count": null,
      "outputs": [
        {
          "output_type": "execute_result",
          "data": {
            "text/plain": [
              "RandomForestRegressor(max_features='sqrt', min_samples_leaf=4,\n",
              "                      min_samples_split=3, n_estimators=40, n_jobs=-1)"
            ]
          },
          "metadata": {},
          "execution_count": 38
        }
      ]
    },
    {
      "cell_type": "code",
      "source": [
        "\n",
        "\n",
        "y_pred = regr1.predict(x_train)\n",
        "mean_absolute_percentage_error(y_pred, y_train)"
      ],
      "metadata": {
        "id": "k5xmuvfyFWdr",
        "colab": {
          "base_uri": "https://localhost:8080/"
        },
        "outputId": "585c263e-adad-46da-f539-494e2a565afa"
      },
      "execution_count": null,
      "outputs": [
        {
          "output_type": "execute_result",
          "data": {
            "text/plain": [
              "0.2113908542622784"
            ]
          },
          "metadata": {},
          "execution_count": 41
        }
      ]
    },
    {
      "cell_type": "markdown",
      "source": [
        "# Using Xgboost\n",
        "\n",
        "\n",
        "\n",
        "\n",
        "\n",
        "\n",
        "\n"
      ],
      "metadata": {
        "id": "fS-LgVjRGZdd"
      }
    },
    {
      "cell_type": "code",
      "source": [
        "# import xgboost\n",
        "import xgboost as xgb"
      ],
      "metadata": {
        "id": "UMns9AxeFk_P"
      },
      "execution_count": null,
      "outputs": []
    },
    {
      "cell_type": "code",
      "source": [
        "xgb_model = xgb.XGBRegressor(\n",
        " learning_rate =0.1,\n",
        " n_estimators=1000,\n",
        " max_depth=3,\n",
        "\n",
        " subsample=0.8,\n",
        " reg_alpha=200, reg_lambda=200,\n",
        " colsample_bytree=0.8,)\n",
        "xgb_model.fit(x_train, y_train)"
      ],
      "metadata": {
        "colab": {
          "base_uri": "https://localhost:8080/"
        },
        "id": "kueURu7JFjJ_",
        "outputId": "32a99310-8439-40fb-e47d-595071e0aee8"
      },
      "execution_count": null,
      "outputs": [
        {
          "output_type": "stream",
          "name": "stdout",
          "text": [
            "[02:43:17] WARNING: /workspace/src/objective/regression_obj.cu:152: reg:linear is now deprecated in favor of reg:squarederror.\n"
          ]
        },
        {
          "output_type": "execute_result",
          "data": {
            "text/plain": [
              "XGBRegressor(colsample_bytree=0.8, n_estimators=1000, reg_alpha=200,\n",
              "             reg_lambda=200, subsample=0.8)"
            ]
          },
          "metadata": {},
          "execution_count": 44
        }
      ]
    },
    {
      "cell_type": "code",
      "source": [
        "y_pred_xgb=xgb_model.predict(x_train)\n",
        "mean_absolute_percentage_error(y_pred_xgb,y_train)"
      ],
      "metadata": {
        "id": "zfzLuUK5Mm2i",
        "colab": {
          "base_uri": "https://localhost:8080/"
        },
        "outputId": "f004b913-94f3-43b2-b76c-cc6e18d01b9d"
      },
      "execution_count": null,
      "outputs": [
        {
          "output_type": "execute_result",
          "data": {
            "text/plain": [
              "0.23964614223578806"
            ]
          },
          "metadata": {},
          "execution_count": 46
        }
      ]
    }
  ]
}